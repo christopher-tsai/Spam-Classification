{
 "cells": [
  {
   "cell_type": "markdown",
   "metadata": {},
   "source": [
    "# Spam/Ham Classification\n",
    "## Feature Engineering, Logistic Regression, Cross Validation\n",
    "\n",
    "In this project, we will create a classifier that can distinguish spam (junk or commercial or bulk) emails from ham (non-spam) emails. I will implement the following techniques that I have learned:\n",
    "\n",
    "- Feature engineering with text data\n",
    "- Using sklearn libraries to process data and fit models\n",
    "- Validating the performance of your model and minimize overfitting\n",
    "- Generating and analyzing precision recall curves\n"
   ]
  },
  {
   "cell_type": "code",
   "execution_count": 112,
   "metadata": {},
   "outputs": [],
   "source": [
    "import numpy as np\n",
    "import pandas as pd\n",
    "\n",
    "import matplotlib.pyplot as plt\n",
    "%matplotlib inline\n",
    "\n",
    "import seaborn as sns\n",
    "sns.set(style = \"whitegrid\", \n",
    "        color_codes = True,\n",
    "        font_scale = 1.5)"
   ]
  },
  {
   "cell_type": "markdown",
   "metadata": {},
   "source": [
    "### Loading in the Data\n",
    "\n",
    "The dataset consists of email messages and their labels (0 for ham, 1 for spam). \n",
    "\n",
    "The labeled dataset contains 8348 labeled examples, and the test set contains 1000 unlabeled examples.\n",
    "\n",
    "The `train` DataFrame contains labeled data that you will use to train your model. It contains four columns:\n",
    "\n",
    "1. `id`: An identifier for the training example.\n",
    "1. `subject`: The subject of the email\n",
    "1. `email`: The text of the email.\n",
    "1. `spam`: 1 if the email was spam, 0 if the email was ham (not spam).\n",
    "\n",
    "The `test` DataFrame contains another set of 1000 unlabeled examples."
   ]
  },
  {
   "cell_type": "code",
   "execution_count": 113,
   "metadata": {},
   "outputs": [
    {
     "name": "stdout",
     "output_type": "stream",
     "text": [
      "Using version already downloaded: Mon Dec 17 11:45:10 2018\n",
      "MD5 hash of file: 0380c4cf72746622947b9ca5db9b8be8\n",
      "Using version already downloaded: Mon Dec 17 11:45:11 2018\n",
      "MD5 hash of file: a2e7abd8c7d9abf6e6fafc1d1f9ee6bf\n"
     ]
    },
    {
     "data": {
      "text/html": [
       "<div>\n",
       "<style scoped>\n",
       "    .dataframe tbody tr th:only-of-type {\n",
       "        vertical-align: middle;\n",
       "    }\n",
       "\n",
       "    .dataframe tbody tr th {\n",
       "        vertical-align: top;\n",
       "    }\n",
       "\n",
       "    .dataframe thead th {\n",
       "        text-align: right;\n",
       "    }\n",
       "</style>\n",
       "<table border=\"1\" class=\"dataframe\">\n",
       "  <thead>\n",
       "    <tr style=\"text-align: right;\">\n",
       "      <th></th>\n",
       "      <th>id</th>\n",
       "      <th>subject</th>\n",
       "      <th>email</th>\n",
       "      <th>spam</th>\n",
       "    </tr>\n",
       "  </thead>\n",
       "  <tbody>\n",
       "    <tr>\n",
       "      <th>0</th>\n",
       "      <td>0</td>\n",
       "      <td>Subject: A&amp;L Daily to be auctioned in bankrupt...</td>\n",
       "      <td>url: http://boingboing.net/#85534171\\n date: n...</td>\n",
       "      <td>0</td>\n",
       "    </tr>\n",
       "    <tr>\n",
       "      <th>1</th>\n",
       "      <td>1</td>\n",
       "      <td>Subject: Wired: \"Stronger ties between ISPs an...</td>\n",
       "      <td>url: http://scriptingnews.userland.com/backiss...</td>\n",
       "      <td>0</td>\n",
       "    </tr>\n",
       "    <tr>\n",
       "      <th>2</th>\n",
       "      <td>2</td>\n",
       "      <td>Subject: It's just too small                  ...</td>\n",
       "      <td>&lt;html&gt;\\n &lt;head&gt;\\n &lt;/head&gt;\\n &lt;body&gt;\\n &lt;font siz...</td>\n",
       "      <td>1</td>\n",
       "    </tr>\n",
       "    <tr>\n",
       "      <th>3</th>\n",
       "      <td>3</td>\n",
       "      <td>Subject: liberal defnitions\\n</td>\n",
       "      <td>depends on how much over spending vs. how much...</td>\n",
       "      <td>0</td>\n",
       "    </tr>\n",
       "    <tr>\n",
       "      <th>4</th>\n",
       "      <td>4</td>\n",
       "      <td>Subject: RE: [ILUG] Newbie seeks advice - Suse...</td>\n",
       "      <td>hehe sorry but if you hit caps lock twice the ...</td>\n",
       "      <td>0</td>\n",
       "    </tr>\n",
       "  </tbody>\n",
       "</table>\n",
       "</div>"
      ],
      "text/plain": [
       "   id                                            subject  \\\n",
       "0   0  Subject: A&L Daily to be auctioned in bankrupt...   \n",
       "1   1  Subject: Wired: \"Stronger ties between ISPs an...   \n",
       "2   2  Subject: It's just too small                  ...   \n",
       "3   3                      Subject: liberal defnitions\\n   \n",
       "4   4  Subject: RE: [ILUG] Newbie seeks advice - Suse...   \n",
       "\n",
       "                                               email  spam  \n",
       "0  url: http://boingboing.net/#85534171\\n date: n...     0  \n",
       "1  url: http://scriptingnews.userland.com/backiss...     0  \n",
       "2  <html>\\n <head>\\n </head>\\n <body>\\n <font siz...     1  \n",
       "3  depends on how much over spending vs. how much...     0  \n",
       "4  hehe sorry but if you hit caps lock twice the ...     0  "
      ]
     },
     "execution_count": 113,
     "metadata": {},
     "output_type": "execute_result"
    }
   ],
   "source": [
    "from utils import fetch_and_cache_gdrive\n",
    "fetch_and_cache_gdrive('1SCASpLZFKCp2zek-toR3xeKX3DZnBSyp', 'train.csv')\n",
    "fetch_and_cache_gdrive('1ZDFo9OTF96B5GP2Nzn8P8-AL7CTQXmC0', 'test.csv')\n",
    "\n",
    "original_training_data = pd.read_csv('data/train.csv')\n",
    "test = pd.read_csv('data/test.csv')\n",
    "\n",
    "# Convert the emails to lower case as a first step to processing the text\n",
    "original_training_data['email'] = original_training_data['email'].str.lower()\n",
    "test['email'] = test['email'].str.lower()\n",
    "\n",
    "original_training_data.head()"
   ]
  },
  {
   "cell_type": "markdown",
   "metadata": {},
   "source": [
    "First let's check if our data contains any nan values. If there are nan values, I will replace them with the appropriate filler values. In other words, a nan value in the subject column should be replaced with an empty string. \n",
    "\n",
    "Note that while there are no nan values in the spam column, we should be careful when replacing nan values when they are the labels. Doing so without consideration may introduce significant bias into our model when fitting."
   ]
  },
  {
   "cell_type": "code",
   "execution_count": 114,
   "metadata": {},
   "outputs": [
    {
     "name": "stdout",
     "output_type": "stream",
     "text": [
      "subject has NaN values\n"
     ]
    }
   ],
   "source": [
    "for i in original_training_data.columns.values:\n",
    "    if sum(original_training_data[i].isnull()) > 0:\n",
    "        print(i, \"has NaN values\")\n",
    "        original_training_data[i] = original_training_data[i].replace(np.nan, \"\", regex = True)"
   ]
  },
  {
   "cell_type": "code",
   "execution_count": 115,
   "metadata": {},
   "outputs": [
    {
     "name": "stdout",
     "output_type": "stream",
     "text": [
      "url: http://boingboing.net/#85534171\n",
      " date: not supplied\n",
      " \n",
      " arts and letters daily, a wonderful and dense blog, has folded up its tent due \n",
      " to the bankruptcy of its parent company. a&l daily will be auctioned off by the \n",
      " receivers. link[1] discuss[2] (_thanks, misha!_)\n",
      " \n",
      " [1] http://www.aldaily.com/\n",
      " [2] http://www.quicktopic.com/boing/h/zlfterjnd6jf\n",
      " \n",
      " \n",
      "\n"
     ]
    }
   ],
   "source": [
    "first_ham = original_training_data[original_training_data[\"spam\"] == 0].iloc[0]['email']\n",
    "first_spam = original_training_data[original_training_data[\"spam\"] == 1].iloc[0][\"email\"]\n",
    "print(first_ham)\n"
   ]
  },
  {
   "cell_type": "markdown",
   "metadata": {},
   "source": [
    "Printed above is the first ham email in our dataset. We see that it looks like a pretty standard email."
   ]
  },
  {
   "cell_type": "code",
   "execution_count": 116,
   "metadata": {},
   "outputs": [
    {
     "name": "stdout",
     "output_type": "stream",
     "text": [
      "<html>\n",
      " <head>\n",
      " </head>\n",
      " <body>\n",
      " <font size=3d\"4\"><b> a man endowed with a 7-8\" hammer is simply<br>\n",
      "  better equipped than a man with a 5-6\"hammer. <br>\n",
      " <br>would you rather have<br>more than enough to get the job done or fall =\n",
      " short. it's totally up<br>to you. our methods are guaranteed to increase y=\n",
      " our size by 1-3\"<br> <a href=3d\"http://209.163.187.47/cgi-bin/index.php?10=\n",
      " 004\">come in here and see how</a>\n",
      " </body>\n",
      " </html>\n",
      " \n",
      " \n",
      " \n",
      "\n"
     ]
    }
   ],
   "source": [
    "print(first_spam)"
   ]
  },
  {
   "cell_type": "markdown",
   "metadata": {},
   "source": [
    "This is an example of a spam email. We see it uses html, head, and body tags. The email itself also seems to be an advertisement."
   ]
  },
  {
   "cell_type": "markdown",
   "metadata": {},
   "source": [
    "## Training Validation Split\n",
    "The training data we downloaded is all the data we have available for both training models and **validating** the models that we train.  We therefore need to split the training data into separate training and validation datsets. Note that we set the seed (random_state) to 42. This will produce a pseudo-random sequence of random numbers. "
   ]
  },
  {
   "cell_type": "code",
   "execution_count": 117,
   "metadata": {},
   "outputs": [],
   "source": [
    "from sklearn.model_selection import train_test_split\n",
    "\n",
    "[train, val] = train_test_split(original_training_data, test_size=0.1, random_state=42)"
   ]
  },
  {
   "cell_type": "markdown",
   "metadata": {},
   "source": [
    "# Basic Feature Engineering\n",
    "\n",
    "We would like to take the text of an email and predict whether the text is ham or spam. This is a *classification* problem, so we can use logistic regression to make a classifier. Recall that to train an logistic regression model we need a numeric feature matrix $\\Phi$ (pronounced phi as in wifi) and corresponding binary labels $Y$.  Unfortunately, our data are text, not numbers. To address this, we can create numeric features derived from the email text and use those features for logistic regression.\n",
    "\n",
    "Each row of $\\Phi$ is derived from one email example. Each column of $\\Phi$  is one feature. We'll guide you through creating a simple feature, and you'll create more interesting ones when you are trying to increase your accuracy."
   ]
  },
  {
   "cell_type": "markdown",
   "metadata": {},
   "source": [
    "We will create a function called `words_in_texts` that takes in a list of `words` and a pandas Series of email `texts`. It will output a 2-dimensional NumPy array containing one row for each email text. The row should contain either a 0 or a 1 for each word in the list: 0 if the word doesn't appear in the text and 1 if the word does. For example:\n",
    "\n",
    "```python\n",
    ">>> words_in_texts(['hello', 'bye', 'world'], \n",
    "                   pd.Series(['hello', 'hello world hello']))\n",
    "\n",
    "array([[1, 0, 0],\n",
    "       [1, 0, 1]])\n",
    "```"
   ]
  },
  {
   "cell_type": "code",
   "execution_count": 118,
   "metadata": {},
   "outputs": [],
   "source": [
    "def words_in_texts(words, texts):\n",
    "    '''\n",
    "    Args:\n",
    "        words (list-like): words to find\n",
    "        texts (Series): strings to search in\n",
    "    \n",
    "    Returns:\n",
    "        NumPy array of 0s and 1s with shape (n, p) where n is the\n",
    "        number of texts and p is the number of words.\n",
    "    '''\n",
    "    indicator_array = []\n",
    "    for i in texts:\n",
    "        indicator_array.append(np.array([word in i for word in words]).astype(int).tolist())\n",
    "    return np.array(indicator_array)"
   ]
  },
  {
   "cell_type": "markdown",
   "metadata": {},
   "source": [
    "# Basic EDA\n",
    "\n",
    "Now we need to identify some features that allow us to tell spam and ham emails apart. One idea is to compare the distribution of a single feature in spam emails to the distribution of the same feature in ham emails. If the feature is itself a binary indicator, such as whether a certain word occurs in the text, this amounts to comparing the proportion of spam emails with the word to the proportion of ham emails with the word.\n"
   ]
  },
  {
   "cell_type": "code",
   "execution_count": 119,
   "metadata": {},
   "outputs": [
    {
     "data": {
      "text/plain": [
       "Text(0,0.5,'Proportion of Emails')"
      ]
     },
     "execution_count": 119,
     "metadata": {},
     "output_type": "execute_result"
    },
    {
     "data": {
      "image/png": "[encoded data removed]",
      "text/plain": [
       "<Figure size 720x576 with 1 Axes>"
      ]
     },
     "metadata": {},
     "output_type": "display_data"
    }
   ],
   "source": [
    "train=train.reset_index() # We must do this in order to preserve the ordering of emails to labels for words_in_texts\n",
    "words = ['size', 'guarantee', 'help', 'please', 'free', 'text']\n",
    "\n",
    "spam = pd.DataFrame(words_in_texts(words, train[train['spam'] == 1]['email']), columns = words).melt()\n",
    "spam_grouped = spam.groupby('variable').agg('sum')\n",
    "spam_grouped['proportion'] = spam_grouped['value']/len(train[train['spam'] == 1])\n",
    "spam_grouped['type'] = ['Spam']*len(words)\n",
    "\n",
    "ham = pd.DataFrame(words_in_texts(words, train[train['spam'] == 0]['email']), columns = words).melt()\n",
    "ham_grouped = ham.groupby('variable').agg('sum')\n",
    "ham_grouped['proportion'] = ham_grouped['value']/len(train[train['spam'] == 0])\n",
    "ham_grouped['type'] = ['Ham']*len(words)\n",
    "\n",
    "final_df = ham_grouped.append(spam_grouped).reset_index()\n",
    "\n",
    "plt.figure(figsize = (10, 8))\n",
    "sns.barplot('variable', 'proportion', ci=None, hue = 'type', data = final_df)\n",
    "plt.yticks(np.arange(0, 1.1, .2))\n",
    "plt.xlabel(\"Words\")\n",
    "plt.ylabel(\"Proportion of Emails\")\n"
   ]
  },
  {
   "cell_type": "code",
   "execution_count": 120,
   "metadata": {},
   "outputs": [
    {
     "name": "stderr",
     "output_type": "stream",
     "text": [
      "C:\\Users\\Chris Tsai\\Anaconda3\\lib\\site-packages\\scipy\\stats\\stats.py:1713: FutureWarning: Using a non-tuple sequence for multidimensional indexing is deprecated; use `arr[tuple(seq)]` instead of `arr[seq]`. In the future this will be interpreted as an array index, `arr[np.array(seq)]`, which will result either in an error or a different result.\n",
      "  return np.add.reduce(sorted[indexer] * weights, axis=axis) / sumval\n"
     ]
    },
    {
     "data": {
      "text/plain": [
       "Text(0,0.5,'Distribution')"
      ]
     },
     "execution_count": 120,
     "metadata": {},
     "output_type": "execute_result"
    },
    {
     "data": {
      "image/png": "[encoded data removed]",
      "text/plain": [
       "<Figure size 432x288 with 1 Axes>"
      ]
     },
     "metadata": {},
     "output_type": "display_data"
    }
   ],
   "source": [
    "body_length = []\n",
    "for i in train.index:\n",
    "    body_length.append(len(train['email'][i]))\n",
    "train[\"length\"] = body_length\n",
    "spam_length = train[train['spam'] == 1]\n",
    "ham_length = train[train['spam'] == 0]\n",
    "sns.distplot(spam_length['length'], hist = False, color = \"green\")\n",
    "sns.distplot(ham_length['length'], hist = False)\n",
    "plt.xlim(0, 50000)\n",
    "plt.xlabel(\"Length of email body\")\n",
    "plt.ylabel(\"Distribution\")"
   ]
  },
  {
   "cell_type": "markdown",
   "metadata": {},
   "source": [
    "We can see that the distribution of spam emails are skewed right; The majority of spam email have lengths 0 to 10000, while ham emails have more spread out lengths."
   ]
  },
  {
   "cell_type": "code",
   "execution_count": 121,
   "metadata": {},
   "outputs": [],
   "source": [
    "import sklearn\n",
    "import sklearn.datasets\n",
    "import sklearn.linear_model\n"
   ]
  },
  {
   "cell_type": "markdown",
   "metadata": {},
   "source": [
    "# Basic Classification\n",
    "\n",
    "Presumably, our classifier will be used for **filtering**, i.e. preventing messages labeled `spam` from reaching someone's inbox. Since we are trying  There are two kinds of errors we can make:\n",
    "- False positive (FP): a ham email gets flagged as spam and filtered out of the inbox.\n",
    "- False negative (FN): a spam email gets mislabeled as ham and ends up in the inbox.\n",
    "\n",
    "These definitions depend both on the true labels and the predicted labels. False positives and false negatives may be of differing importance, leading us to consider more ways of evaluating a classifier, in addition to overall accuracy:\n",
    "\n",
    "**Precision** measures the proportion $\\frac{\\text{TP}}{\\text{TP} + \\text{FP}}$ of emails flagged as spam that are actually spam.\n",
    "\n",
    "**Recall** measures the proportion $\\frac{\\text{TP}}{\\text{TP} + \\text{FN}}$ of spam emails that were correctly flagged as spam. \n",
    "\n",
    "**False-alarm rate** measures the proportion $\\frac{\\text{FP}}{\\text{FP} + \\text{TN}}$ of ham emails that were incorrectly flagged as spam. \n",
    "\n",
    "Before creating our final model, we should think about ways to improve the filtering of spam and ham emails. Some ideas include:\n",
    "\n",
    "1. Finding better features based on the email text. Some example features are:\n",
    "    1. Number of characters in the subject / body\n",
    "    1. Number of words in the subject / body\n",
    "    1. Use of punctuation (e.g., how many '!' were there?)\n",
    "    1. Number / percentage of capital letters \n",
    "    1. Whether the email is a reply to an earlier email or a forwarded email\n",
    "1. Finding better words to use as features. Which words are the best at distinguishing emails? This requires digging into the email text itself. \n",
    "1. Better data processing. For example, many emails contain HTML as well as text. You can consider extracting out the text from the HTML to help you find better words. Or, you can match HTML tags themselves, or even some combination of the two.\n",
    "1. Model selection. You can adjust parameters of your model (e.g. the regularization parameter) to achieve higher accuracy. Recall that you should use cross-validation to do feature and model selection properly! Otherwise, you will likely overfit to your training data."
   ]
  },
  {
   "cell_type": "markdown",
   "metadata": {},
   "source": [
    "# Feature Engineering\n"
   ]
  },
  {
   "cell_type": "markdown",
   "metadata": {},
   "source": [
    "### Word Length\n",
    "The first feature that I wanted to create was detecting extremely long words. In a lot of spam emails, there are words that are just a random assortment of letters, and if I can detect these nonsensical words, my model can easily classify them as spam. getWords is a function that seperates every word in a text as an element in a list. long_words is a function that takes in a dataframe and first cleans each text for any regular expression patterns and then uses getWords to return a cleaned list of words for each text. Then, it returns 1 for texts that have words which exceed 20 characters and 0 otherwise."
   ]
  },
  {
   "cell_type": "code",
   "execution_count": 122,
   "metadata": {},
   "outputs": [],
   "source": [
    "import re\n",
    "def getWords(text):\n",
    "    return re.compile('\\w+').findall(text)\n",
    "\n",
    "def long_words(df):\n",
    "    #replace all punctuation\n",
    "    cleaned_text = []\n",
    "    for s in range(len(df)):\n",
    "        cleaned_text.append(re.sub(r'[^\\w\\s]',' ', df.iloc[s][\"email\"]))\n",
    "        cleaned_text[s] = re.sub(r'_', ' ', cleaned_text[s])\n",
    "        cleaned_text[s] = re.sub(r\"\\n\", \" \", cleaned_text[s])\n",
    "        cleaned_text[s] = re.sub(r\"\\t\", \" \", cleaned_text[s])\n",
    "    too_long = []\n",
    "    for x in range(len(cleaned_text)):\n",
    "        if max([len(i) for i in getWords(cleaned_text[x])]) > 20:\n",
    "            too_long.append(1)\n",
    "        else:\n",
    "            too_long.append(0)\n",
    "    return too_long"
   ]
  },
  {
   "cell_type": "markdown",
   "metadata": {},
   "source": [
    "### Words\n",
    "The second feature that I wanted to create was just words in general. Having more and more words as features is a good way for our model to differentiate which words are used more in spam emails/ham emails. For that reason, I used the 1100 most common words found in our training set. In theory, the more words we use, the more we overfit our training model, as having too many features can cause overfitting. However, with a training set this large and a test set even larger, I think that this is fine.\n"
   ]
  },
  {
   "cell_type": "code",
   "execution_count": 123,
   "metadata": {},
   "outputs": [],
   "source": [
    "from collections import Counter\n",
    "a = Counter(\" \".join(train[train[\"spam\"] == 1][\"email\"]).split()).most_common(1100)\n",
    "a.remove(a[102]) #We are removing these because they are characters that interfere with str.contains\n",
    "a.remove(a[319]) #These are regular expression characters such as *, **, etc.\n",
    "a.remove(a[402])\n",
    "a.remove(a[546])\n",
    "a.remove(a[523])\n",
    "\n",
    "\n",
    "body_words = []\n",
    "for i in range(len(a)):\n",
    "    body_words.append(a[i][0])\n"
   ]
  },
  {
   "cell_type": "markdown",
   "metadata": {},
   "source": [
    "I ended up not using subject_word as a feature, since it had too much random correlation with body_words, which led to a much lower accuracy."
   ]
  },
  {
   "cell_type": "code",
   "execution_count": 124,
   "metadata": {},
   "outputs": [],
   "source": [
    "b = Counter(\" \".join(train[train[\"spam\"] == 1][\"subject\"]).split()).most_common(100)\n",
    "\n",
    "subject_word = []\n",
    "for i in range(len(b)):\n",
    "    subject_word.append(b[i][0])\n",
    "\n",
    "\n",
    "#I ended up not using these features"
   ]
  },
  {
   "cell_type": "markdown",
   "metadata": {},
   "source": [
    "### Punctuation and Symbols\n",
    "The third feature that I wanted to use was finding punctuation in both the subject and email body. The types of punctuation that I used were:\n",
    "    \n",
    "    \n",
    "    \"!\", \".\", \":\", \"?\", \"$\", \"%\"\n"
   ]
  },
  {
   "cell_type": "code",
   "execution_count": 125,
   "metadata": {},
   "outputs": [],
   "source": [
    "def punctuation_subject(df):\n",
    "    cleaning = df[\"subject\"].str.replace(\"Subject:\", \"\") #getting rid of the Subject: tag in the subject\n",
    "    cleaning = cleaning.str.replace(\"Re:\", \"\") #getting rid of the Re: tag in the subject\n",
    "    clean = cleaning.replace(np.nan, \" \", regex = True)\n",
    "\n",
    "    punctuation_subject = []\n",
    "    for i in df.index:\n",
    "        punctuation_subject.append((len(\"\".join([c for c in clean[i] if c == \"!\" or c == \".\" or c == \":\" or \n",
    "                                                 c == \"?\" or c == \"$\" or c == \"%\"]))))\n",
    "    return punctuation_subject\n",
    "\n",
    "\n",
    "\n",
    "def punctuation_body(df):\n",
    "    punctuation_body = []\n",
    "    for i in df.index:\n",
    "        punctuation_body.append((len(\"\".join([c for c in df[\"email\"][i] if c == \"!\" or c == \".\" or c == \":\" or\n",
    "                                              c == \"?\" or c == \"$\" or c == \"%\"]))))\n",
    "    return punctuation_body\n",
    "\n"
   ]
  },
  {
   "cell_type": "markdown",
   "metadata": {},
   "source": [
    "### Length of Texts and Uppercase in Subject\n",
    "The fourth type of feature I wanted to implement was the length of the text in both the subject and email body and also the number of uppercase letters in the subject."
   ]
  },
  {
   "cell_type": "code",
   "execution_count": 126,
   "metadata": {},
   "outputs": [],
   "source": [
    "def subject_length(df):\n",
    "    cleaning = df[\"subject\"].str.replace(\"Subject:\", \"\") #getting rid of the Subject: tag in the subject\n",
    "    cleaning = cleaning.str.replace(\"Re:\", \"\") #getting rid of the Re: tag in the subject\n",
    "    clean = cleaning.replace(np.nan, \" \", regex = True)\n",
    "    subject_len = []\n",
    "    for i in df.index:\n",
    "        subject_len.append(len(clean[i]))\n",
    "    return subject_len\n",
    "\n",
    "\n",
    "\n",
    "def body_length(df):\n",
    "    body_len = []\n",
    "    for i in df.index:\n",
    "        body_len.append(len(df['email'][i]))\n",
    "    return body_len\n",
    "\n",
    "\n",
    "\n",
    "def uppercase(df):\n",
    "    cleaning = df[\"subject\"].str.replace(\"Subject:\", \"\") #getting rid of the Subject: tag in the subject\n",
    "    cleaning = cleaning.str.replace(\"Re:\", \"\") #getting rid of the Re: tag in the subject\n",
    "    clean = cleaning.replace(np.nan, \" \", regex = True)\n",
    "    uppercase = []\n",
    "    for i in df.index:\n",
    "        uppercase.append((len(\"\".join([c for c in clean[i] if c.isupper()]))))\n",
    "    return uppercase\n",
    "    "
   ]
  },
  {
   "cell_type": "markdown",
   "metadata": {},
   "source": [
    "# Creating and Choosing our Model\n",
    "We now use all of the features defined above to create our feature matrix. We initially use all of the features we defined above, but we will show that not all of the features are very useful through cross-validation."
   ]
  },
  {
   "cell_type": "code",
   "execution_count": 127,
   "metadata": {},
   "outputs": [],
   "source": [
    "def features(df): \n",
    "    features = pd.DataFrame(words_in_texts(body_words, df[\"email\"]), columns = body_words)\n",
    "    features[\"punctuation_subject\"] = punctuation_subject(df)\n",
    "    features[\"punctuation_body\"] = punctuation_body(df)\n",
    "    features[\"uppercase\"] = uppercase(df)\n",
    "    features[\"body_length\"] = body_length(df)\n",
    "    features[\"subject_length\"] = subject_length(df)\n",
    "    features[\"long_words\"] = long_words(df)\n",
    "    \n",
    "    return features\n",
    "\n",
    "response = train['spam']\n",
    "\n",
    "feature = features(train)\n"
   ]
  },
  {
   "cell_type": "code",
   "execution_count": 128,
   "metadata": {},
   "outputs": [
    {
     "name": "stdout",
     "output_type": "stream",
     "text": [
      "The accuracy of our initial model on our training set is 0.9994675895115134\n"
     ]
    }
   ],
   "source": [
    "model = sklearn.linear_model.LogisticRegression(fit_intercept=True)\n",
    "fitted = model.fit(feature, response)\n",
    "predicted = fitted.predict(feature)\n",
    "\n",
    "train_pred = fitted.predict_proba(feature)\n",
    "spam_prob = train_pred[:, 1]\n",
    "\n",
    "train_correct = sum((predicted == 1) & (response == 1)) + sum((predicted == 0) & (response == 0))\n",
    "train_correct/len(train)\n",
    "\n",
    "print(\"The accuracy of our initial model on our training set is \" + str(sum(predicted == response)/len(train)))"
   ]
  },
  {
   "cell_type": "markdown",
   "metadata": {},
   "source": [
    "# 10-Fold Cross Validation\n",
    "To see if our model can do better with or without some features, we implement 10-fold cross validation. 10-fold cross validation splits our training set into 10 groups. 10-fold CV iterates over a set 10 times, each time choosing a different validation set, while holding the rest as the training set."
   ]
  },
  {
   "cell_type": "code",
   "execution_count": 129,
   "metadata": {},
   "outputs": [],
   "source": [
    "from sklearn.model_selection import KFold\n",
    "\n",
    "def CV_accuracy(X_train, Y_train):\n",
    "    kf = KFold(n_splits = 10)\n",
    "    validation_errors = []\n",
    "\n",
    "    for train_idx, valid_idx in kf.split(X_train):\n",
    "        split_X_train, split_X_valid = X_train.iloc[train_idx], X_train.iloc[valid_idx] \n",
    "        split_Y_train, split_Y_valid = Y_train.iloc[train_idx], Y_train.iloc[valid_idx]\n",
    "    \n",
    "    model = sklearn.linear_model.LogisticRegression(fit_intercept=True)\n",
    "    model.fit(split_X_train, split_Y_train)\n",
    "    Y_pred = model.predict(split_X_valid)\n",
    "    accuracy = sum(Y_pred == split_Y_valid)/len(Y_pred)\n",
    "    validation_errors.append(accuracy)\n",
    "\n",
    "    return np.mean(validation_errors)"
   ]
  },
  {
   "cell_type": "code",
   "execution_count": 130,
   "metadata": {},
   "outputs": [
    {
     "name": "stdout",
     "output_type": "stream",
     "text": [
      "Word Features, accuracy: 0.9973368841544608\n",
      "Without Subject Features, accuracy: 0.9933422103861518\n",
      "Word Features and Word Length, accuracy: 0.9986684420772304\n",
      "Without Subject Punctuation, Body Length, and Uppercase, accuracy: 0.9986684420772304\n"
     ]
    }
   ],
   "source": [
    "acc = []\n",
    "acc.append(CV_accuracy(feature.loc[:, \"the\": \"confidential\"], response))\n",
    "acc.append(CV_accuracy(feature.drop(columns = [\"punctuation_subject\", \"subject_length\"], axis = 1), response))\n",
    "acc.append(CV_accuracy(feature.drop(columns =\n",
    "                         [\"punctuation_subject\", \"punctuation_body\", \"body_length\", \"subject_length\", \"uppercase\"],\n",
    "                         axis = 1), response))\n",
    "acc.append(CV_accuracy(feature.drop(columns =\n",
    "                         [\"punctuation_subject\", \"body_length\", \"uppercase\"],\n",
    "                         axis = 1), response))\n",
    "feature_sets = [\"Word Features\", \"Without Subject Features\", \"Word Features and Word Length\",\n",
    "              \"Without Subject Punctuation, Body Length, and Uppercase\"]\n",
    "for i in range(4):\n",
    "    print('{}, accuracy: {}'.format(feature_sets[i], acc[i]))\n"
   ]
  },
  {
   "cell_type": "markdown",
   "metadata": {},
   "source": [
    "### Feature Selection\n",
    "\n",
    "It seems like the model that does the best is one that drops the features: \n",
    "\n",
    "Subject Punctuation, Body Length, and Uppercase\n",
    "\n",
    "We will now use our new features to train our model, and test the accuracy of the training set."
   ]
  },
  {
   "cell_type": "code",
   "execution_count": 131,
   "metadata": {},
   "outputs": [
    {
     "data": {
      "text/plain": [
       "1.0"
      ]
     },
     "execution_count": 131,
     "metadata": {},
     "output_type": "execute_result"
    }
   ],
   "source": [
    "model = sklearn.linear_model.LogisticRegression(fit_intercept=True)\n",
    "new_feature = feature.drop(columns =\n",
    "                         [\"punctuation_subject\", \"body_length\", \"uppercase\"],\n",
    "                         axis = 1)\n",
    "new_fitted = model.fit(new_feature, response)\n",
    "predicted = new_fitted.predict(new_feature)\n",
    "\n",
    "train_pred = new_fitted.predict_proba(new_feature)\n",
    "spam_prob = train_pred[:, 1]\n",
    "\n",
    "train_correct = sum((predicted == 1) & (response == 1)) + sum((predicted == 0) & (response == 0))\n",
    "train_correct/len(train)\n",
    "\n",
    "sum(predicted == response)/len(train)"
   ]
  },
  {
   "cell_type": "code",
   "execution_count": 132,
   "metadata": {},
   "outputs": [
    {
     "data": {
      "text/plain": [
       "0.9940119760479041"
      ]
     },
     "execution_count": 132,
     "metadata": {},
     "output_type": "execute_result"
    }
   ],
   "source": [
    "val_test = features(val).drop(columns =\n",
    "                         [\"punctuation_subject\", \"body_length\", \"uppercase\"],\n",
    "                         axis = 1)\n",
    "val_predictions = new_fitted.predict(val_test)\n",
    "val_correct = sum((val_predictions == 1) & (val[\"spam\"] == 1)) + sum((val_predictions == 0) & (val[\"spam\"] == 0))\n",
    "val_correct/len(val)"
   ]
  },
  {
   "cell_type": "markdown",
   "metadata": {},
   "source": [
    "# Making a Precision-Recall Curve\n",
    "\n",
    "We can trade off between precision and recall. In most cases we won't be able to get both perfect precision (i.e. no false positives) and recall (i.e. no false negatives), so we have to compromise. For example, in the case of cancer screenings, false negatives are comparatively worse than false positives — a false negative means that a patient might not discover a disease until it's too late to treat, while a false positive means that a patient will probably have to take another screening.\n",
    "\n",
    "Recall that logistic regression calculates the probability that an example belongs to a certain class. Then, to classify an example we say that an email is spam if our classifier gives it $\\ge 0.5$ probability of being spam. However, *we can adjust that cutoff*: we can say that an email is spam only if our classifier gives it $\\ge 0.7$ probability of being spam, for example. This is how we can trade off false positives and false negatives.\n",
    "\n",
    "Since we achieved such a high accuracy on our training set and validation set, it is fair to say that we do not need to make any adjustments to our cutoff. I have still plotted the curve below, and since there is no tradeoff, our curve looks like a right angle."
   ]
  },
  {
   "cell_type": "code",
   "execution_count": 133,
   "metadata": {},
   "outputs": [
    {
     "data": {
      "text/plain": [
       "1.0"
      ]
     },
     "execution_count": 133,
     "metadata": {},
     "output_type": "execute_result"
    },
    {
     "data": {
      "image/png": "[encoded data removed]",
      "text/plain": [
       "<Figure size 432x288 with 1 Axes>"
      ]
     },
     "metadata": {},
     "output_type": "display_data"
    }
   ],
   "source": [
    "from sklearn.metrics import precision_recall_curve\n",
    "precision, recall, _ = precision_recall_curve(response, spam_prob)\n",
    "\n",
    "plt.plot(precision, recall)\n",
    "\n",
    "from sklearn.metrics import average_precision_score\n",
    "average_precision = average_precision_score(response, spam_prob)\n",
    "average_precision"
   ]
  },
  {
   "cell_type": "markdown",
   "metadata": {},
   "source": [
    "# Results\n",
    "I participated in a classwide competition on Kaggle for the best ham/spam classifer, and out of 500+ students, I tied 4th on the private leaderboards with an accuracy of .99714.\n",
    "\n",
    "https://www.kaggle.com/c/ds100-fa18-hw4/leaderboard"
   ]
  }
 ],
 "metadata": {
  "kernelspec": {
   "display_name": "Python 3",
   "language": "python",
   "name": "python3"
  },
  "language_info": {
   "codemirror_mode": {
    "name": "ipython",
    "version": 3
   },
   "file_extension": ".py",
   "mimetype": "text/x-python",
   "name": "python",
   "nbconvert_exporter": "python",
   "pygments_lexer": "ipython3",
   "version": "3.7.0"
  }
 },
 "nbformat": 4,
 "nbformat_minor": 2
}
